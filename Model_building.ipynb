{
 "cells": [
  {
   "cell_type": "markdown",
   "metadata": {
    "id": "TlerBF_mOrFZ"
   },
   "source": [
    "# Deep learning Sentiment analysis(or opinion mining)\n",
    "The goal of this project is to be able to consistently detect emotions in normal conversational sentences , help businesses monitor brand and product sentiment in customer feedback, and understand customer needs."
   ]
  },
  {
   "cell_type": "markdown",
   "metadata": {},
   "source": [
    "# Load Libraries"
   ]
  },
  {
   "cell_type": "code",
   "execution_count": 14,
   "metadata": {},
   "outputs": [],
   "source": [
    "import re\n",
    "from nltk.corpus import stopwords\n",
    "from nltk.stem import WordNetLemmatizer\n",
    "\n",
    "import numpy as np\n",
    "import pandas as pd\n",
    "import matplotlib.pyplot as plt\n",
    "import seaborn as sns\n",
    "\n",
    "import keras\n",
    "from  keras.preprocessing.text import Tokenizer\n",
    "from keras.preprocessing.sequence import pad_sequences\n",
    "from tensorflow.keras.utils import to_categorical\n",
    "\n",
    "from keras.models import Sequential\n",
    "from keras.layers import LSTM,Bidirectional,Dense,Embedding,Dropout"
   ]
  },
  {
   "cell_type": "markdown",
   "metadata": {},
   "source": [
    "# Loading dataset \n",
    "using twitter dataset that is List of documents with emotion flag, It is split into train, test & validation for building the machine learning model, It helps greatly in NLP Classification tasks"
   ]
  },
  {
   "cell_type": "code",
   "execution_count": 2,
   "metadata": {
    "id": "KfBwb5MtQE_W"
   },
   "outputs": [],
   "source": [
    "df_train= pd.read_csv('train.txt', header =None, sep =';', names = ['Input','Sentiment'], encoding='utf-8')\n",
    "df_val= pd.read_csv('val.txt', header =None, sep =';', names = ['Input','Sentiment'], encoding='utf-8')\n",
    "df_test= pd.read_csv('test.txt', header =None, sep =';', names = ['Input','Sentiment'], encoding='utf-8')\n",
    "\n",
    "df_dataset=pd.read_csv('dataset.txt', header =None, sep =';', names = ['Input','Sentiment'], encoding='utf-8')"
   ]
  },
  {
   "cell_type": "code",
   "execution_count": 3,
   "metadata": {},
   "outputs": [
    {
     "data": {
      "text/plain": [
       "joy         6752\n",
       "sadness     5789\n",
       "anger       2706\n",
       "fear        2370\n",
       "love        1639\n",
       "surprise     719\n",
       "Name: Sentiment, dtype: int64"
      ]
     },
     "execution_count": 3,
     "metadata": {},
     "output_type": "execute_result"
    }
   ],
   "source": [
    "df_dataset['Sentiment'].value_counts()"
   ]
  },
  {
   "cell_type": "code",
   "execution_count": 5,
   "metadata": {
    "colab": {
     "base_uri": "https://localhost:8080/",
     "height": 202
    },
    "id": "q8FV2l1uT_Y3",
    "outputId": "66b9009e-8332-4bac-f24b-a2c69eeff39f"
   },
   "outputs": [
    {
     "data": {
      "text/html": [
       "<div>\n",
       "<style scoped>\n",
       "    .dataframe tbody tr th:only-of-type {\n",
       "        vertical-align: middle;\n",
       "    }\n",
       "\n",
       "    .dataframe tbody tr th {\n",
       "        vertical-align: top;\n",
       "    }\n",
       "\n",
       "    .dataframe thead th {\n",
       "        text-align: right;\n",
       "    }\n",
       "</style>\n",
       "<table border=\"1\" class=\"dataframe\">\n",
       "  <thead>\n",
       "    <tr style=\"text-align: right;\">\n",
       "      <th></th>\n",
       "      <th>Input</th>\n",
       "      <th>Sentiment</th>\n",
       "    </tr>\n",
       "  </thead>\n",
       "  <tbody>\n",
       "    <tr>\n",
       "      <th>0</th>\n",
       "      <td>i didnt feel humiliated</td>\n",
       "      <td>sadness</td>\n",
       "    </tr>\n",
       "    <tr>\n",
       "      <th>1</th>\n",
       "      <td>i can go from feeling so hopeless to so damned...</td>\n",
       "      <td>sadness</td>\n",
       "    </tr>\n",
       "    <tr>\n",
       "      <th>2</th>\n",
       "      <td>im grabbing a minute to post i feel greedy wrong</td>\n",
       "      <td>anger</td>\n",
       "    </tr>\n",
       "    <tr>\n",
       "      <th>3</th>\n",
       "      <td>i am ever feeling nostalgic about the fireplac...</td>\n",
       "      <td>love</td>\n",
       "    </tr>\n",
       "    <tr>\n",
       "      <th>4</th>\n",
       "      <td>i am feeling grouchy</td>\n",
       "      <td>anger</td>\n",
       "    </tr>\n",
       "  </tbody>\n",
       "</table>\n",
       "</div>"
      ],
      "text/plain": [
       "                                               Input Sentiment\n",
       "0                            i didnt feel humiliated   sadness\n",
       "1  i can go from feeling so hopeless to so damned...   sadness\n",
       "2   im grabbing a minute to post i feel greedy wrong     anger\n",
       "3  i am ever feeling nostalgic about the fireplac...      love\n",
       "4                               i am feeling grouchy     anger"
      ]
     },
     "execution_count": 5,
     "metadata": {},
     "output_type": "execute_result"
    }
   ],
   "source": [
    "df_train.head()"
   ]
  },
  {
   "cell_type": "markdown",
   "metadata": {},
   "source": [
    "# Plotting data"
   ]
  },
  {
   "cell_type": "code",
   "execution_count": 6,
   "metadata": {},
   "outputs": [
    {
     "data": {
      "image/png": "[encoded data removed]",
      "text/plain": [
       "<Figure size 432x288 with 1 Axes>"
      ]
     },
     "metadata": {
      "needs_background": "light"
     },
     "output_type": "display_data"
    }
   ],
   "source": [
    "df_dataset['Sentiment'].value_counts().sort_values().plot.bar()\n",
    "plt.show()"
   ]
  },
  {
   "cell_type": "code",
   "execution_count": 7,
   "metadata": {
    "id": "MND2EHENVMGB"
   },
   "outputs": [],
   "source": [
    "x= df_train['Input']"
   ]
  },
  {
   "cell_type": "code",
   "execution_count": 9,
   "metadata": {},
   "outputs": [],
   "source": [
    "# calculating the length of each message and making into a dataframe\n",
    "lst=[]\n",
    "for i in x:\n",
    "  lst.append(len(i))"
   ]
  },
  {
   "cell_type": "code",
   "execution_count": 10,
   "metadata": {
    "id": "B11hFru9ZNvB"
   },
   "outputs": [],
   "source": [
    "cts=[]\n",
    "for i in range(7,301):\n",
    "   ct=0\n",
    "   for k in lst:\n",
    "     if k==i:\n",
    "       ct+=1\n",
    "   cts.append(ct)"
   ]
  },
  {
   "cell_type": "markdown",
   "metadata": {},
   "source": [
    "culc the num of element that have same length in the list"
   ]
  },
  {
   "cell_type": "code",
   "execution_count": 11,
   "metadata": {
    "colab": {
     "base_uri": "https://localhost:8080/",
     "height": 266
    },
    "id": "PJx45P0Samiv",
    "outputId": "4147a676-3e8d-4117-f94b-076f134d62ae"
   },
   "outputs": [
    {
     "data": {
      "image/png": "[encoded data removed]",
      "text/plain": [
       "<Figure size 432x288 with 1 Axes>"
      ]
     },
     "metadata": {
      "needs_background": "light"
     },
     "output_type": "display_data"
    }
   ],
   "source": [
    "plt.bar(range(7, 301), cts)\n",
    "plt.show()"
   ]
  },
  {
   "cell_type": "markdown",
   "metadata": {},
   "source": [
    "# Preprocessing\n",
    "- Punctuation Removal\n",
    "- Case Normalization\n",
    "- Remove Stopwords\n",
    "- Lemmatization"
   ]
  },
  {
   "cell_type": "code",
   "execution_count": 12,
   "metadata": {},
   "outputs": [],
   "source": [
    "def Preprocessing(text):\n",
    "    text = re.sub(r'[^\\w\\s]','',text)\n",
    "    text = text.lower()\n",
    "    text = [w for w in text.split(' ') if w not in stopwords.words('english')]\n",
    "    text = [WordNetLemmatizer().lemmatize(token) for token in text]\n",
    "    text = [WordNetLemmatizer().lemmatize(token,pos='v') for token in text]\n",
    "    text = \" \".join(text)\n",
    "    return text\n",
    "\n",
    "df_train['Input'] = df_train.Input.apply(lambda x:Preprocessing(x))\n",
    "df_val['Input'] = df_val.Input.apply(lambda x:Preprocessing(x))\n",
    "df_test['Input']= df_test.Input.apply(lambda x:Preprocessing(x))\n",
    "\n"
   ]
  },
  {
   "cell_type": "markdown",
   "metadata": {},
   "source": [
    "# Tokenizing \n",
    "Word tokenization is the process of splitting a large sample of text into words. This is a requirement in natural language processing tasks where each word needs to be captured and subjected to further analysis like classifying and counting them for a particular sentiment etc."
   ]
  },
  {
   "cell_type": "code",
   "execution_count": 18,
   "metadata": {
    "id": "YBLYyfDLa7Qv"
   },
   "outputs": [],
   "source": [
    "# Tokenizing training data set\n",
    "tokenizer= Tokenizer(1512, lower=True, oov_token='UNK') #num_words=1512\n",
    "tokenizer.fit_on_texts(x)"
   ]
  },
  {
   "cell_type": "code",
   "execution_count": 19,
   "metadata": {
    "id": "WOiTRLbwdx40"
   },
   "outputs": [],
   "source": [
    "# Convert text to sequences using keras\n",
    "x_train= tokenizer.texts_to_sequences(x)"
   ]
  },
  {
   "cell_type": "code",
   "execution_count": 20,
   "metadata": {
    "id": "z4u6KWc2eAqS"
   },
   "outputs": [],
   "source": [
    "# Pad sequences to get uniform length\n",
    "x_train_pad= pad_sequences(x_train, maxlen=80, padding='post')"
   ]
  },
  {
   "cell_type": "markdown",
   "metadata": {},
   "source": [
    "# One hot encoding string values\n",
    "Many machine learning algorithms cannot operate on label data directly. They require all input variables and output variables to be numeric. This means that categorical data must be converted to a numerical form.\n",
    "\n",
    "- Integer Encoding As a first step, each unique category value is assigned an integer value. For example, “joy” is 1, “anger” is 2, and “sadness” is 3. For some variables, this may be enough. The integer values have a natural ordered relationship between each other and machine learning algorithms may be able to understand and harness this relationship.\n",
    "\n",
    "- One-Hot Encoding For categorical variables where no such ordinal relationship exists, the integer encoding is not enough. In fact, using this encoding and allowing the model to assume a natural ordering between categories may result in poor performance or unexpected results (predictions halfway between categories).\n",
    "\n",
    "In this case, a one-hot encoding can be applied to the integer representation. This is where the integer encoded variable is removed and a new binary variable is added for each unique integer value."
   ]
  },
  {
   "cell_type": "markdown",
   "metadata": {},
   "source": [
    "### Training data"
   ]
  },
  {
   "cell_type": "code",
   "execution_count": 21,
   "metadata": {
    "id": "8fWU46FceakV"
   },
   "outputs": [],
   "source": [
    "# Replace the sentiments with numbers in JSON format\n",
    "df_train['Sentiment']= df_train.Sentiment.replace({'joy':0,'anger':1,'love':2,'sadness':3,'fear':4,'surprise':5})"
   ]
  },
  {
   "cell_type": "code",
   "execution_count": 22,
   "metadata": {
    "id": "IlHvY4DDfAJn"
   },
   "outputs": [
    {
     "name": "stdout",
     "output_type": "stream",
     "text": [
      "[3 3 1 2]\n"
     ]
    }
   ],
   "source": [
    "y_train= df_train['Sentiment'].values\n",
    "print(y_train[:4])"
   ]
  },
  {
   "cell_type": "code",
   "execution_count": 23,
   "metadata": {
    "id": "iL0AAwE-fgbR"
   },
   "outputs": [],
   "source": [
    "# Convert to binary matrix\n",
    "y_train_f= to_categorical(y_train)"
   ]
  },
  {
   "cell_type": "code",
   "execution_count": 24,
   "metadata": {
    "colab": {
     "base_uri": "https://localhost:8080/"
    },
    "id": "CRNpwjDif2xJ",
    "outputId": "3bdbf5c3-5bee-4fbf-87c9-5a4bfcf541d6"
   },
   "outputs": [
    {
     "data": {
      "text/plain": [
       "array([[0., 0., 0., 1., 0., 0.],\n",
       "       [0., 0., 0., 1., 0., 0.],\n",
       "       [0., 1., 0., 0., 0., 0.],\n",
       "       [0., 0., 1., 0., 0., 0.]], dtype=float32)"
      ]
     },
     "execution_count": 24,
     "metadata": {},
     "output_type": "execute_result"
    }
   ],
   "source": [
    "# Printing first four rows of matrix\n",
    "y_train_f[:4]"
   ]
  },
  {
   "cell_type": "markdown",
   "metadata": {
    "id": "yGED6RSBxAJS"
   },
   "source": [
    "### Validation data\n"
   ]
  },
  {
   "cell_type": "code",
   "execution_count": 25,
   "metadata": {
    "id": "SxWby_YQxQUI"
   },
   "outputs": [],
   "source": [
    "# Perform same steps as training data set\n",
    "x_val= df_val['Input']"
   ]
  },
  {
   "cell_type": "code",
   "execution_count": 26,
   "metadata": {
    "id": "mDSI9pRgxbXE"
   },
   "outputs": [],
   "source": [
    "y_val= df_val.Sentiment.replace({'joy':0,'anger':1,'love':2,'sadness':3,'fear':4,'surprise':5})"
   ]
  },
  {
   "cell_type": "code",
   "execution_count": 27,
   "metadata": {
    "id": "mroSkO873Inb"
   },
   "outputs": [],
   "source": [
    "x_val_f= tokenizer.texts_to_sequences(x_val)"
   ]
  },
  {
   "cell_type": "code",
   "execution_count": 28,
   "metadata": {
    "id": "fiJhJorf3gW1"
   },
   "outputs": [],
   "source": [
    "x_val_pad= pad_sequences(x_val_f, maxlen=80, padding='post')"
   ]
  },
  {
   "cell_type": "code",
   "execution_count": 29,
   "metadata": {
    "id": "YN_zvxCE3uqn"
   },
   "outputs": [],
   "source": [
    "y_val_f= to_categorical(y_val)"
   ]
  },
  {
   "cell_type": "markdown",
   "metadata": {
    "id": "QauoylDbTJR7"
   },
   "source": [
    "### Test dataset"
   ]
  },
  {
   "cell_type": "code",
   "execution_count": 36,
   "metadata": {
    "id": "oOEd8O-5Saww"
   },
   "outputs": [],
   "source": [
    "# Same steps as training/ validation dataset \n",
    "x_test= df_test['Input']"
   ]
  },
  {
   "cell_type": "code",
   "execution_count": 37,
   "metadata": {
    "id": "FjTA9qTMTym_"
   },
   "outputs": [],
   "source": [
    "y_test= df_test.Sentiment.replace({'joy':0,'anger':1,'love':2,'sadness':3,'fear':4,'surprise':5})"
   ]
  },
  {
   "cell_type": "code",
   "execution_count": 38,
   "metadata": {
    "id": "7NOughZkT9di"
   },
   "outputs": [],
   "source": [
    "x_test_f= tokenizer.texts_to_sequences(x_test)"
   ]
  },
  {
   "cell_type": "code",
   "execution_count": 39,
   "metadata": {
    "id": "S6Ii8Bg7UF36"
   },
   "outputs": [],
   "source": [
    "x_test_pad= pad_sequences(x_test_f, maxlen=80, padding='post')"
   ]
  },
  {
   "cell_type": "code",
   "execution_count": 40,
   "metadata": {
    "id": "9f0oIRcmUPRw"
   },
   "outputs": [],
   "source": [
    "y_test_f= to_categorical(y_test)"
   ]
  },
  {
   "cell_type": "markdown",
   "metadata": {
    "id": "8LhEBTsR342E"
   },
   "source": [
    "# Creating the LSTM Model "
   ]
  },
  {
   "cell_type": "code",
   "execution_count": 30,
   "metadata": {
    "colab": {
     "base_uri": "https://localhost:8080/"
    },
    "id": "R1oadhtKgL4X",
    "outputId": "94f7a5cc-281e-4bcd-8177-4be2952133bb"
   },
   "outputs": [
    {
     "name": "stdout",
     "output_type": "stream",
     "text": [
      "Model: \"sequential_1\"\n",
      "_________________________________________________________________\n",
      " Layer (type)                Output Shape              Param #   \n",
      "=================================================================\n",
      " embedding_1 (Embedding)     (None, 80, 64)            973568    \n",
      "                                                                 \n",
      " dropout_1 (Dropout)         (None, 80, 64)            0         \n",
      "                                                                 \n",
      " bidirectional_2 (Bidirectio  (None, 80, 160)          92800     \n",
      " nal)                                                            \n",
      "                                                                 \n",
      " bidirectional_3 (Bidirectio  (None, 140)              129360    \n",
      " nal)                                                            \n",
      "                                                                 \n",
      " dense_1 (Dense)             (None, 6)                 846       \n",
      "                                                                 \n",
      "=================================================================\n",
      "Total params: 1,196,574\n",
      "Trainable params: 1,196,574\n",
      "Non-trainable params: 0\n",
      "_________________________________________________________________\n",
      "None\n"
     ]
    }
   ],
   "source": [
    "# Instantiating the keras model to be Sequential\n",
    "model= Sequential()\n",
    "\n",
    "# Adding first hidden layer\n",
    "model.add(Embedding(15212, 64, input_length=80)) #input_dim=15212, output_dim=64\n",
    "\n",
    "# Dropout technique to prevent overfitting\n",
    "model.add(Dropout(0.6))\n",
    "\n",
    "# Creating LSTM layer\n",
    "model.add(Bidirectional(LSTM(80, return_sequences= True))) #units=80 dimensionality of the output space.\n",
    "\n",
    "model.add(Bidirectional(LSTM(70)))\n",
    "\n",
    "# Adding final hidden layer\n",
    "model.add(Dense(6, activation='softmax')) #6 is output units, use 2 in IMDB dataset\n",
    "\n",
    "# Printing model summary\n",
    "print(model.summary())"
   ]
  },
  {
   "cell_type": "markdown",
   "metadata": {},
   "source": [
    "# Compiling the model"
   ]
  },
  {
   "cell_type": "code",
   "execution_count": 31,
   "metadata": {
    "id": "61_orV7p9ps1"
   },
   "outputs": [],
   "source": [
    "# Compiling model\n",
    "model.compile(optimizer='adam', loss='categorical_crossentropy', metrics=['accuracy'])"
   ]
  },
  {
   "cell_type": "code",
   "execution_count": 32,
   "metadata": {
    "colab": {
     "base_uri": "https://localhost:8080/"
    },
    "id": "v8Un9msT99tI",
    "outputId": "55ce32a5-6669-4d80-9d0f-c8198705b5a0"
   },
   "outputs": [
    {
     "name": "stdout",
     "output_type": "stream",
     "text": [
      "Epoch 1/24\n",
      "125/125 [==============================] - 55s 358ms/step - loss: 1.4930 - accuracy: 0.4060 - val_loss: 1.0674 - val_accuracy: 0.5900\n",
      "Epoch 2/24\n",
      "125/125 [==============================] - 56s 445ms/step - loss: 0.8449 - accuracy: 0.6996 - val_loss: 0.6418 - val_accuracy: 0.7745\n",
      "Epoch 3/24\n",
      "125/125 [==============================] - 64s 510ms/step - loss: 0.5460 - accuracy: 0.8117 - val_loss: 0.4389 - val_accuracy: 0.8460\n",
      "Epoch 4/24\n",
      "125/125 [==============================] - 70s 561ms/step - loss: 0.4028 - accuracy: 0.8605 - val_loss: 0.3620 - val_accuracy: 0.8685\n",
      "Epoch 5/24\n",
      "125/125 [==============================] - 67s 533ms/step - loss: 0.3323 - accuracy: 0.8796 - val_loss: 0.3397 - val_accuracy: 0.8665\n",
      "Epoch 6/24\n",
      "125/125 [==============================] - 66s 528ms/step - loss: 0.2875 - accuracy: 0.8961 - val_loss: 0.3177 - val_accuracy: 0.8755\n",
      "Epoch 7/24\n",
      "125/125 [==============================] - 77s 617ms/step - loss: 0.2552 - accuracy: 0.9056 - val_loss: 0.2731 - val_accuracy: 0.8960\n",
      "Epoch 8/24\n",
      "125/125 [==============================] - 79s 634ms/step - loss: 0.2357 - accuracy: 0.9093 - val_loss: 0.2601 - val_accuracy: 0.8985\n",
      "Epoch 9/24\n",
      "125/125 [==============================] - 82s 659ms/step - loss: 0.2173 - accuracy: 0.9135 - val_loss: 0.2534 - val_accuracy: 0.8995\n",
      "Epoch 10/24\n",
      "125/125 [==============================] - 79s 629ms/step - loss: 0.1999 - accuracy: 0.9217 - val_loss: 0.2499 - val_accuracy: 0.8970\n",
      "Epoch 11/24\n",
      "125/125 [==============================] - 84s 674ms/step - loss: 0.1855 - accuracy: 0.9296 - val_loss: 0.2463 - val_accuracy: 0.8985\n",
      "Epoch 12/24\n",
      "125/125 [==============================] - 82s 661ms/step - loss: 0.1799 - accuracy: 0.9286 - val_loss: 0.2466 - val_accuracy: 0.9030\n",
      "Epoch 13/24\n",
      "125/125 [==============================] - 79s 630ms/step - loss: 0.1746 - accuracy: 0.9308 - val_loss: 0.2477 - val_accuracy: 0.9015\n",
      "Epoch 14/24\n",
      "125/125 [==============================] - 68s 544ms/step - loss: 0.1683 - accuracy: 0.9327 - val_loss: 0.2435 - val_accuracy: 0.9065\n",
      "Epoch 15/24\n",
      "125/125 [==============================] - 71s 566ms/step - loss: 0.1564 - accuracy: 0.9356 - val_loss: 0.2502 - val_accuracy: 0.9000\n",
      "Epoch 16/24\n",
      "125/125 [==============================] - 70s 558ms/step - loss: 0.1560 - accuracy: 0.9334 - val_loss: 0.2363 - val_accuracy: 0.9085\n",
      "Epoch 17/24\n",
      "125/125 [==============================] - 70s 559ms/step - loss: 0.1446 - accuracy: 0.9393 - val_loss: 0.2506 - val_accuracy: 0.8990\n",
      "Epoch 18/24\n",
      "125/125 [==============================] - 73s 586ms/step - loss: 0.1446 - accuracy: 0.9394 - val_loss: 0.2469 - val_accuracy: 0.9020\n",
      "Epoch 19/24\n",
      "125/125 [==============================] - 77s 614ms/step - loss: 0.1411 - accuracy: 0.9377 - val_loss: 0.2564 - val_accuracy: 0.9040\n",
      "Epoch 20/24\n",
      "125/125 [==============================] - 77s 613ms/step - loss: 0.1375 - accuracy: 0.9438 - val_loss: 0.2726 - val_accuracy: 0.9045\n",
      "Epoch 21/24\n",
      "125/125 [==============================] - 81s 653ms/step - loss: 0.1286 - accuracy: 0.9451 - val_loss: 0.2556 - val_accuracy: 0.9080\n",
      "Epoch 22/24\n",
      "125/125 [==============================] - 73s 580ms/step - loss: 0.1285 - accuracy: 0.9444 - val_loss: 0.2545 - val_accuracy: 0.9060\n",
      "Epoch 23/24\n",
      "125/125 [==============================] - 74s 594ms/step - loss: 0.1274 - accuracy: 0.9457 - val_loss: 0.2593 - val_accuracy: 0.9020\n",
      "Epoch 24/24\n",
      "125/125 [==============================] - 80s 638ms/step - loss: 0.1253 - accuracy: 0.9474 - val_loss: 0.2595 - val_accuracy: 0.9060\n"
     ]
    }
   ],
   "source": [
    "# Building and training the model\n",
    "hist= model.fit(x_train_pad, y_train_f, epochs=24, batch_size=128, validation_data=(x_val_pad, y_val_f)) "
   ]
  },
  {
   "cell_type": "code",
   "execution_count": 33,
   "metadata": {
    "colab": {
     "base_uri": "https://localhost:8080/",
     "height": 268
    },
    "id": "XWAAkbtaEdcj",
    "outputId": "5c1bf4b5-75ef-4dd8-b66f-bc3c62c131c2"
   },
   "outputs": [
    {
     "data": {
      "image/png": "[encoded data removed]",
      "text/plain": [
       "<Figure size 432x288 with 1 Axes>"
      ]
     },
     "metadata": {
      "needs_background": "light"
     },
     "output_type": "display_data"
    }
   ],
   "source": [
    "# Plotting accuracy of training vs validation\n",
    "plt.plot(hist.history['accuracy'], c='b', label='training data')\n",
    "plt.plot(hist.history['val_accuracy'], c='r', label='testing data')\n",
    "plt.legend(loc='lower right')\n",
    "plt.title('Model Accuracy ')\n",
    "plt.show()"
   ]
  },
  {
   "cell_type": "code",
   "execution_count": 34,
   "metadata": {
    "colab": {
     "base_uri": "https://localhost:8080/",
     "height": 265
    },
    "id": "8e2gLL3RSJxg",
    "outputId": "0e420007-19a0-4ed8-aa02-93d6fa96ce32"
   },
   "outputs": [
    {
     "data": {
      "image/png": "[encoded data removed]",
      "text/plain": [
       "<Figure size 432x288 with 1 Axes>"
      ]
     },
     "metadata": {
      "needs_background": "light"
     },
     "output_type": "display_data"
    }
   ],
   "source": [
    "# Plotting loss of training vs validation\n",
    "plt.plot(hist.history['loss'], c='b', label='training data')\n",
    "plt.plot(hist.history['val_loss'], c='r', label='testing data')\n",
    "plt.legend(loc='upper right')\n",
    "plt.title('Model Loss ')\n",
    "plt.show()"
   ]
  },
  {
   "cell_type": "markdown",
   "metadata": {},
   "source": [
    "# Evaluating the performance of the model\n",
    "Accuracy"
   ]
  },
  {
   "cell_type": "code",
   "execution_count": 41,
   "metadata": {
    "colab": {
     "base_uri": "https://localhost:8080/"
    },
    "id": "kw_6xr4xVG4I",
    "outputId": "f14752ae-7ab3-460a-bac6-96620f0ee629"
   },
   "outputs": [
    {
     "name": "stdout",
     "output_type": "stream",
     "text": [
      "63/63 [==============================] - 2s 32ms/step - loss: 0.2466 - accuracy: 0.9030\n"
     ]
    },
    {
     "data": {
      "text/plain": [
       "[0.24664759635925293, 0.902999997138977]"
      ]
     },
     "execution_count": 41,
     "metadata": {},
     "output_type": "execute_result"
    }
   ],
   "source": [
    "# Evaluate model\n",
    "model.evaluate(x_test_pad, y_test_f)\n",
    "\n",
    "#model.evaluate(x_test_pad2, y_test_f2)"
   ]
  },
  {
   "cell_type": "markdown",
   "metadata": {},
   "source": [
    "# Predict model"
   ]
  },
  {
   "cell_type": "code",
   "execution_count": 43,
   "metadata": {
    "colab": {
     "base_uri": "https://localhost:8080/"
    },
    "id": "ion0OgsHV2PV",
    "outputId": "a870edf2-49e3-4891-b37b-77143105e6d2"
   },
   "outputs": [],
   "source": [
    "# Predict model for test data\n",
    "predict_x=model.predict(x_test_pad) \n",
    "classes_x=np.argmax(predict_x,axis=1)\n",
    "\n"
   ]
  },
  {
   "cell_type": "markdown",
   "metadata": {},
   "source": [
    "# Classification Report\n"
   ]
  },
  {
   "cell_type": "code",
   "execution_count": 44,
   "metadata": {},
   "outputs": [
    {
     "name": "stdout",
     "output_type": "stream",
     "text": [
      "\n",
      "              precision    recall  f1-score   support\n",
      "\n",
      "           0       0.94      0.92      0.93       695\n",
      "           1       0.88      0.89      0.88       275\n",
      "           2       0.76      0.84      0.80       159\n",
      "           3       0.94      0.94      0.94       581\n",
      "           4       0.90      0.87      0.88       224\n",
      "           5       0.76      0.76      0.76        66\n",
      "\n",
      "    accuracy                           0.90      2000\n",
      "   macro avg       0.86      0.87      0.86      2000\n",
      "weighted avg       0.90      0.90      0.90      2000\n",
      "\n"
     ]
    }
   ],
   "source": [
    "# Print precision, recall & f1 score\n",
    "# accuracy: (tp + tn) / (p + n)\n",
    "# precision tp / (tp + fp)\n",
    "# recall: tp / (tp + fn)\n",
    "# f1: 2 tp / (2 tp + fp + fn)\n",
    "\n",
    "from sklearn.metrics import classification_report\n",
    "print(\"\")\n",
    "print(classification_report(y_test, classes_x))"
   ]
  },
  {
   "cell_type": "markdown",
   "metadata": {},
   "source": [
    "# Save model"
   ]
  },
  {
   "cell_type": "code",
   "execution_count": 45,
   "metadata": {},
   "outputs": [
    {
     "name": "stderr",
     "output_type": "stream",
     "text": [
      "WARNING:absl:Found untraced functions such as lstm_cell_7_layer_call_fn, lstm_cell_7_layer_call_and_return_conditional_losses, lstm_cell_8_layer_call_fn, lstm_cell_8_layer_call_and_return_conditional_losses, lstm_cell_10_layer_call_fn while saving (showing 5 of 8). These functions will not be directly callable after loading.\n"
     ]
    },
    {
     "name": "stdout",
     "output_type": "stream",
     "text": [
      "INFO:tensorflow:Assets written to: my_model\\assets\n"
     ]
    },
    {
     "name": "stderr",
     "output_type": "stream",
     "text": [
      "INFO:tensorflow:Assets written to: my_model\\assets\n",
      "WARNING:absl:<keras.layers.recurrent.LSTMCell object at 0x000002349EB83430> has the same name 'LSTMCell' as a built-in Keras object. Consider renaming <class 'keras.layers.recurrent.LSTMCell'> to avoid naming conflicts when loading with `tf.keras.models.load_model`. If renaming is not possible, pass the object in the `custom_objects` parameter of the load function.\n",
      "WARNING:absl:<keras.layers.recurrent.LSTMCell object at 0x000002349EB84D90> has the same name 'LSTMCell' as a built-in Keras object. Consider renaming <class 'keras.layers.recurrent.LSTMCell'> to avoid naming conflicts when loading with `tf.keras.models.load_model`. If renaming is not possible, pass the object in the `custom_objects` parameter of the load function.\n",
      "WARNING:absl:<keras.layers.recurrent.LSTMCell object at 0x000002349EC9EFA0> has the same name 'LSTMCell' as a built-in Keras object. Consider renaming <class 'keras.layers.recurrent.LSTMCell'> to avoid naming conflicts when loading with `tf.keras.models.load_model`. If renaming is not possible, pass the object in the `custom_objects` parameter of the load function.\n",
      "WARNING:absl:<keras.layers.recurrent.LSTMCell object at 0x000002349EC824F0> has the same name 'LSTMCell' as a built-in Keras object. Consider renaming <class 'keras.layers.recurrent.LSTMCell'> to avoid naming conflicts when loading with `tf.keras.models.load_model`. If renaming is not possible, pass the object in the `custom_objects` parameter of the load function.\n"
     ]
    }
   ],
   "source": [
    "#Save keras model\n",
    "from keras.models import save_model\n",
    "import os.path\n",
    "if os.path.isfile('my_model') is False :\n",
    "    model.save('my_model')\n",
    "\n",
    "# To load the model:\n",
    "from keras.models import load_model\n",
    "saved_mdl = load_model(\"my_model\")"
   ]
  },
  {
   "cell_type": "code",
   "execution_count": 46,
   "metadata": {},
   "outputs": [
    {
     "name": "stdout",
     "output_type": "stream",
     "text": [
      "63/63 [==============================] - 19s 40ms/step - loss: 0.2466 - accuracy: 0.9030\n"
     ]
    },
    {
     "data": {
      "text/plain": [
       "[0.24664759635925293, 0.902999997138977]"
      ]
     },
     "execution_count": 46,
     "metadata": {},
     "output_type": "execute_result"
    }
   ],
   "source": [
    "# Evaluate saved model\n",
    "saved_mdl.evaluate(x_test_pad, y_test_f)"
   ]
  },
  {
   "cell_type": "code",
   "execution_count": 47,
   "metadata": {},
   "outputs": [
    {
     "name": "stdout",
     "output_type": "stream",
     "text": [
      "Model: \"sequential_1\"\n",
      "_________________________________________________________________\n",
      " Layer (type)                Output Shape              Param #   \n",
      "=================================================================\n",
      " embedding_1 (Embedding)     (None, 80, 64)            973568    \n",
      "                                                                 \n",
      " dropout_1 (Dropout)         (None, 80, 64)            0         \n",
      "                                                                 \n",
      " bidirectional_2 (Bidirectio  (None, 80, 160)          92800     \n",
      " nal)                                                            \n",
      "                                                                 \n",
      " bidirectional_3 (Bidirectio  (None, 140)              129360    \n",
      " nal)                                                            \n",
      "                                                                 \n",
      " dense_1 (Dense)             (None, 6)                 846       \n",
      "                                                                 \n",
      "=================================================================\n",
      "Total params: 1,196,574\n",
      "Trainable params: 1,196,574\n",
      "Non-trainable params: 0\n",
      "_________________________________________________________________\n",
      "None\n"
     ]
    }
   ],
   "source": [
    "# Printing saved model summary\n",
    "print(saved_mdl.summary())"
   ]
  },
  {
   "cell_type": "markdown",
   "metadata": {},
   "source": [
    "# Playground"
   ]
  },
  {
   "cell_type": "code",
   "execution_count": 48,
   "metadata": {},
   "outputs": [],
   "source": [
    "def startAnalysis(INPUT):\n",
    "    \n",
    "    x_ = np.array([INPUT])\n",
    "    # Convert text to sequences using keras\n",
    "    x_input = tokenizer.texts_to_sequences(x_)\n",
    "    # Pad sequences to get uniform length\n",
    "    x_input_pad= pad_sequences(x_input, maxlen=80, padding='post')\n",
    "\n",
    "    predict_input=saved_mdl([x_input_pad])\n",
    "    classes_=np.argmax(predict_input,axis=1)\n",
    "\n",
    "    categories = ['joy','anger','love','sadness','fear','surprise']\n",
    "    OUTPUT= categories[int(classes_)]\n",
    "    return OUTPUT"
   ]
  },
  {
   "cell_type": "code",
   "execution_count": 56,
   "metadata": {},
   "outputs": [
    {
     "name": "stdout",
     "output_type": "stream",
     "text": [
      "joy\n"
     ]
    }
   ],
   "source": [
    "print (startAnalysis(\"let's have fun\"))"
   ]
  },
  {
   "cell_type": "code",
   "execution_count": 62,
   "metadata": {},
   "outputs": [
    {
     "name": "stdout",
     "output_type": "stream",
     "text": [
      "joy\n"
     ]
    }
   ],
   "source": [
    "print (startAnalysis(\"Today, my father told me, “Just go for it and give it a try!\\\n",
    "You don’t have to be a professional to build a successful product.\"))"
   ]
  },
  {
   "cell_type": "code",
   "execution_count": 64,
   "metadata": {},
   "outputs": [
    {
     "name": "stdout",
     "output_type": "stream",
     "text": [
      "fear\n"
     ]
    }
   ],
   "source": [
    "print (startAnalysis (\"Today, after I watched my dog get run over by a car, I sat on the side of the road \\\n",
    "holding him and crying. And just before he died, he licked the tears off my face.\"))"
   ]
  },
  {
   "cell_type": "code",
   "execution_count": 65,
   "metadata": {},
   "outputs": [
    {
     "name": "stdout",
     "output_type": "stream",
     "text": [
      "sadness\n"
     ]
    }
   ],
   "source": [
    "print (startAnalysis (\"Today, I kissed my dad on the forehead as he passed away in a small hospital bed.\\\n",
    "About 5 seconds after he passed, I realized it was the first time I had given him a kiss since I was a little boy.\"))"
   ]
  },
  {
   "cell_type": "code",
   "execution_count": null,
   "metadata": {},
   "outputs": [],
   "source": []
  }
 ],
 "metadata": {
  "colab": {
   "name": "emotion_detection.ipynb",
   "provenance": []
  },
  "kernelspec": {
   "display_name": "Python 3 (ipykernel)",
   "language": "python",
   "name": "python3"
  },
  "language_info": {
   "codemirror_mode": {
    "name": "ipython",
    "version": 3
   },
   "file_extension": ".py",
   "mimetype": "text/x-python",
   "name": "python",
   "nbconvert_exporter": "python",
   "pygments_lexer": "ipython3",
   "version": "3.9.7"
  }
 },
 "nbformat": 4,
 "nbformat_minor": 1
}
