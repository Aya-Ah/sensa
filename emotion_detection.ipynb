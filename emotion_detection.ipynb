{
 "cells": [
  {
   "cell_type": "code",
   "execution_count": 1,
   "metadata": {
    "id": "TlerBF_mOrFZ"
   },
   "outputs": [],
   "source": [
    "import re\n",
    "from nltk.corpus import stopwords\n",
    "from nltk.stem import WordNetLemmatizer\n",
    "\n",
    "import numpy as np\n",
    "import pandas as pd\n",
    "import matplotlib.pyplot as plt\n",
    "import seaborn as sns\n"
   ]
  },
  {
   "cell_type": "code",
   "execution_count": 2,
   "metadata": {},
   "outputs": [],
   "source": [
    "#!python -m nltk.downloader stopwords"
   ]
  },
  {
   "cell_type": "code",
   "execution_count": 3,
   "metadata": {},
   "outputs": [],
   "source": [
    "#!python -m nltk.downloader wordnet"
   ]
  },
  {
   "cell_type": "markdown",
   "metadata": {},
   "source": [
    "'''\n",
    "Numpy:   it's used to perform a wide variety of mathematical operations on arrays. It adds powerful data structures to Python \n",
    "Pandas:  is a Python package providing fast, flexible, and expressive data structures designed to make working with “relational” \n",
    "         or “labeled” data both easy and intuitive. \n",
    "Seaborn: is an open-source Python library built on top of matplotlib. It is used for data visualization and exploratory data\n",
    "         analysis. Seaborn works easily with dataframes andthe Pandas library. The graphs created can also be customized easily.       \n",
    "'''"
   ]
  },
  {
   "cell_type": "code",
   "execution_count": 4,
   "metadata": {
    "id": "cL6dxLD2P8ZV"
   },
   "outputs": [],
   "source": [
    "import keras\n",
    "from  keras.preprocessing.text import Tokenizer\n",
    "from keras.preprocessing.sequence import pad_sequences\n",
    "from tensorflow.keras.utils import to_categorical"
   ]
  },
  {
   "cell_type": "markdown",
   "metadata": {},
   "source": [
    "'''\n",
    "Keras:     it's Python library for developing and evaluating deep learning models.\n",
    "Tokenizer: it's class of Keras is used for vectorizing a text corpus. For this either, each text input is converted into\n",
    "           integer sequence or a vector that has a coefficient for each token in the form of binary values.\n",
    "\n",
    "\n",
    "'''"
   ]
  },
  {
   "cell_type": "markdown",
   "metadata": {},
   "source": [
    "# IMDB dataset"
   ]
  },
  {
   "cell_type": "code",
   "execution_count": 31,
   "metadata": {},
   "outputs": [],
   "source": [
    "df_trainIMDB = pd.read_csv('TrainIMDB.csv')\n",
    "df_valIMDB = pd.read_csv('ValidIMDB.csv')\n",
    "df_testIMDB = pd.read_csv('testIMDB.csv')"
   ]
  },
  {
   "cell_type": "code",
   "execution_count": 32,
   "metadata": {},
   "outputs": [
    {
     "data": {
      "text/html": [
       "<div>\n",
       "<style scoped>\n",
       "    .dataframe tbody tr th:only-of-type {\n",
       "        vertical-align: middle;\n",
       "    }\n",
       "\n",
       "    .dataframe tbody tr th {\n",
       "        vertical-align: top;\n",
       "    }\n",
       "\n",
       "    .dataframe thead th {\n",
       "        text-align: right;\n",
       "    }\n",
       "</style>\n",
       "<table border=\"1\" class=\"dataframe\">\n",
       "  <thead>\n",
       "    <tr style=\"text-align: right;\">\n",
       "      <th></th>\n",
       "      <th>text</th>\n",
       "      <th>label</th>\n",
       "    </tr>\n",
       "  </thead>\n",
       "  <tbody>\n",
       "    <tr>\n",
       "      <th>0</th>\n",
       "      <td>I grew up (b. 1965) watching and loving the Th...</td>\n",
       "      <td>0</td>\n",
       "    </tr>\n",
       "    <tr>\n",
       "      <th>1</th>\n",
       "      <td>When I put this movie in my DVD player, and sa...</td>\n",
       "      <td>0</td>\n",
       "    </tr>\n",
       "    <tr>\n",
       "      <th>2</th>\n",
       "      <td>Why do people who do not know what a particula...</td>\n",
       "      <td>0</td>\n",
       "    </tr>\n",
       "    <tr>\n",
       "      <th>3</th>\n",
       "      <td>Even though I have great interest in Biblical ...</td>\n",
       "      <td>0</td>\n",
       "    </tr>\n",
       "    <tr>\n",
       "      <th>4</th>\n",
       "      <td>Im a die hard Dads Army fan and nothing will e...</td>\n",
       "      <td>1</td>\n",
       "    </tr>\n",
       "  </tbody>\n",
       "</table>\n",
       "</div>"
      ],
      "text/plain": [
       "                                                text  label\n",
       "0  I grew up (b. 1965) watching and loving the Th...      0\n",
       "1  When I put this movie in my DVD player, and sa...      0\n",
       "2  Why do people who do not know what a particula...      0\n",
       "3  Even though I have great interest in Biblical ...      0\n",
       "4  Im a die hard Dads Army fan and nothing will e...      1"
      ]
     },
     "execution_count": 32,
     "metadata": {},
     "output_type": "execute_result"
    }
   ],
   "source": [
    "df_trainIMDB.head()"
   ]
  },
  {
   "cell_type": "markdown",
   "metadata": {},
   "source": [
    "# Preprocessing"
   ]
  },
  {
   "cell_type": "code",
   "execution_count": 48,
   "metadata": {},
   "outputs": [],
   "source": [
    "def Preprocessing(text):\n",
    "    text = re.sub(r'[^\\w\\s]','',text)\n",
    "    text = text.lower()\n",
    "    text = [w for w in text.split(' ') if w not in stopwords.words('english')]\n",
    "    text = [WordNetLemmatizer().lemmatize(token) for token in text]\n",
    "    text = [WordNetLemmatizer().lemmatize(token,pos='v') for token in text]\n",
    "    text = \" \".join(text)\n",
    "    return text\n",
    "\n",
    "df_trainIMDB['text'] = df_trainIMDB.text.apply(lambda x:Preprocessing(x))\n",
    "df_valIMDB['text'] = df_valIMDB.text.apply(lambda x:Preprocessing(x))\n",
    "df_testIMDB['text']= df_testIMDB.text.apply(lambda x:Preprocessing(x))"
   ]
  },
  {
   "cell_type": "code",
   "execution_count": 50,
   "metadata": {},
   "outputs": [],
   "source": [
    "#Split Dataset\n",
    "trainIMDB_x = df_trainIMDB['text']\n",
    "validIMDB_x = df_valIMDB['text']\n",
    "testIMDB_x = df_testIMDB['text']\n",
    "trainIMDB_y = df_trainIMDB['label']\n",
    "validIMDB_y = df_valIMDB['label']\n",
    "testIMDB_y = df_testIMDB['label']"
   ]
  },
  {
   "cell_type": "markdown",
   "metadata": {},
   "source": [
    "Preparing the Data for modeling "
   ]
  },
  {
   "cell_type": "code",
   "execution_count": 56,
   "metadata": {},
   "outputs": [],
   "source": [
    "x= df_trainIMDB['text']\n",
    "\n",
    "# Tokenizing training data set\n",
    "tokenizer= Tokenizer(1512, lower=True, oov_token='UNK') #num_words=1512\n",
    "tokenizer.fit_on_texts(x)\n",
    "\n",
    "# Convert text to sequences using keras\n",
    "x_trainIMDB= tokenizer.texts_to_sequences(x)\n",
    "\n",
    "# Pad sequences to get uniform length\n",
    "x_trainIMDB_pad= pad_sequences(x_trainIMDB, maxlen=80, padding='post')\n",
    "\n",
    "# Convert to binary matrix\n",
    "y_trainIMDB_f= to_categorical(trainIMDB_y)\n",
    "\n",
    "# Printing first four rows of matrix\n",
    "y_trainIMDB_f[:4]\n",
    "\n",
    "## Perform same steps on the val and test detaset\n",
    "x_valIMDB= df_valIMDB['text']\n",
    "x_valIMDB_f= tokenizer.texts_to_sequences(x_valIMDB)\n",
    "x_valIMDB_pad= pad_sequences(x_valIMDB_f, maxlen=80, padding='post')\n",
    "y_valIMDB_f= to_categorical(validIMDB_y)\n",
    "\n",
    "x_testIMDB= df_testIMDB['text']\n",
    "x_testIMDB_f= tokenizer.texts_to_sequences(x_testIMDB)\n",
    "x_testIMDB_pad= pad_sequences(x_testIMDB_f, maxlen=80, padding='post')\n",
    "y_testIMDB_f= to_categorical(testIMDB_y)"
   ]
  },
  {
   "cell_type": "markdown",
   "metadata": {},
   "source": [
    "# twitter dataset"
   ]
  },
  {
   "cell_type": "code",
   "execution_count": 5,
   "metadata": {
    "id": "KfBwb5MtQE_W"
   },
   "outputs": [],
   "source": [
    "df_train= pd.read_csv('train.txt', header =None, sep =';', names = ['Input','Sentiment'], encoding='utf-8')\n",
    "df_val= pd.read_csv('val.txt', header =None, sep =';', names = ['Input','Sentiment'], encoding='utf-8')\n",
    "df_test= pd.read_csv('test.txt', header =None, sep =';', names = ['Input','Sentiment'], encoding='utf-8')\n",
    "\n",
    "df_test2= pd.read_csv('test30%.txt', header =None, sep =';', names = ['Input','Sentiment'], encoding='utf-8')\n",
    "df_dataset=pd.read_csv('dataset.txt', header =None, sep =';', names = ['Input','Sentiment'], encoding='utf-8')"
   ]
  },
  {
   "cell_type": "code",
   "execution_count": 6,
   "metadata": {},
   "outputs": [
    {
     "data": {
      "text/plain": [
       "joy         6752\n",
       "sadness     5789\n",
       "anger       2706\n",
       "fear        2370\n",
       "love        1639\n",
       "surprise     719\n",
       "Name: Sentiment, dtype: int64"
      ]
     },
     "execution_count": 6,
     "metadata": {},
     "output_type": "execute_result"
    }
   ],
   "source": [
    "df_dataset['Sentiment'].value_counts()"
   ]
  },
  {
   "cell_type": "code",
   "execution_count": 7,
   "metadata": {},
   "outputs": [
    {
     "data": {
      "image/png": "[encoded data removed]",
      "text/plain": [
       "<Figure size 432x288 with 1 Axes>"
      ]
     },
     "metadata": {
      "needs_background": "light"
     },
     "output_type": "display_data"
    }
   ],
   "source": [
    "df_dataset['Sentiment'].value_counts().sort_values().plot.bar()\n",
    "plt.show()"
   ]
  },
  {
   "cell_type": "markdown",
   "metadata": {},
   "source": [
    "'''\n",
    "Pandas DataFrames: is an excel like data structure with labeled axes (rows and columns).\n",
    "Pandas read_csv(): function imports a CSV file to DataFrame format. [header]: this allows you to specify which row will be used                    as column names for your dataframe. Expected an int value or a list of int values. in this model file doesn’t                    have a header, so simply set header=None ,[sep]: Specify a custom delimiter for the CSV input, the default is                    a comma. [name] :  is used to define column names.0\n",
    "\n",
    "'''"
   ]
  },
  {
   "cell_type": "code",
   "execution_count": 8,
   "metadata": {},
   "outputs": [
    {
     "data": {
      "text/plain": [
       "'\\n# Words Cloud for each emotion\\n\\nfrom wordcloud import WordCloud\\n\\ndef words_cloud(wordcloud, df):\\n    plt.figure(figsize=(10, 10))\\n    plt.title(df+\\' Word Cloud\\', size = 16)\\n    plt.imshow(wordcloud) \\n    # No axis details\\n    plt.axis(\"off\");\\n    \\nemotions_list = df_dataset[\\'Sentiment\\'].unique()\\nfor emotion in emotions_list:\\n    text = \\' \\'.join([sentence for sentence in df_dataset.loc[df_dataset[\\'Sentiment\\'] == emotion,\\'Input\\']])\\n    wordcloud = WordCloud(width = 600, height = 600).generate(text)\\n    words_cloud(wordcloud, emotion)\\n'"
      ]
     },
     "execution_count": 8,
     "metadata": {},
     "output_type": "execute_result"
    }
   ],
   "source": [
    "\"\"\"\n",
    "# Words Cloud for each emotion\n",
    "\n",
    "from wordcloud import WordCloud\n",
    "\n",
    "def words_cloud(wordcloud, df):\n",
    "    plt.figure(figsize=(10, 10))\n",
    "    plt.title(df+' Word Cloud', size = 16)\n",
    "    plt.imshow(wordcloud) \n",
    "    # No axis details\n",
    "    plt.axis(\"off\");\n",
    "    \n",
    "emotions_list = df_dataset['Sentiment'].unique()\n",
    "for emotion in emotions_list:\n",
    "    text = ' '.join([sentence for sentence in df_dataset.loc[df_dataset['Sentiment'] == emotion,'Input']])\n",
    "    wordcloud = WordCloud(width = 600, height = 600).generate(text)\n",
    "    words_cloud(wordcloud, emotion)\n",
    "\"\"\"\n"
   ]
  },
  {
   "cell_type": "code",
   "execution_count": 9,
   "metadata": {
    "colab": {
     "base_uri": "https://localhost:8080/",
     "height": 202
    },
    "id": "q8FV2l1uT_Y3",
    "outputId": "66b9009e-8332-4bac-f24b-a2c69eeff39f"
   },
   "outputs": [
    {
     "data": {
      "text/html": [
       "<div>\n",
       "<style scoped>\n",
       "    .dataframe tbody tr th:only-of-type {\n",
       "        vertical-align: middle;\n",
       "    }\n",
       "\n",
       "    .dataframe tbody tr th {\n",
       "        vertical-align: top;\n",
       "    }\n",
       "\n",
       "    .dataframe thead th {\n",
       "        text-align: right;\n",
       "    }\n",
       "</style>\n",
       "<table border=\"1\" class=\"dataframe\">\n",
       "  <thead>\n",
       "    <tr style=\"text-align: right;\">\n",
       "      <th></th>\n",
       "      <th>Input</th>\n",
       "      <th>Sentiment</th>\n",
       "    </tr>\n",
       "  </thead>\n",
       "  <tbody>\n",
       "    <tr>\n",
       "      <th>0</th>\n",
       "      <td>i didnt feel humiliated</td>\n",
       "      <td>sadness</td>\n",
       "    </tr>\n",
       "    <tr>\n",
       "      <th>1</th>\n",
       "      <td>i can go from feeling so hopeless to so damned...</td>\n",
       "      <td>sadness</td>\n",
       "    </tr>\n",
       "    <tr>\n",
       "      <th>2</th>\n",
       "      <td>im grabbing a minute to post i feel greedy wrong</td>\n",
       "      <td>anger</td>\n",
       "    </tr>\n",
       "    <tr>\n",
       "      <th>3</th>\n",
       "      <td>i am ever feeling nostalgic about the fireplac...</td>\n",
       "      <td>love</td>\n",
       "    </tr>\n",
       "    <tr>\n",
       "      <th>4</th>\n",
       "      <td>i am feeling grouchy</td>\n",
       "      <td>anger</td>\n",
       "    </tr>\n",
       "  </tbody>\n",
       "</table>\n",
       "</div>"
      ],
      "text/plain": [
       "                                               Input Sentiment\n",
       "0                            i didnt feel humiliated   sadness\n",
       "1  i can go from feeling so hopeless to so damned...   sadness\n",
       "2   im grabbing a minute to post i feel greedy wrong     anger\n",
       "3  i am ever feeling nostalgic about the fireplac...      love\n",
       "4                               i am feeling grouchy     anger"
      ]
     },
     "execution_count": 9,
     "metadata": {},
     "output_type": "execute_result"
    }
   ],
   "source": [
    "df_train.head()"
   ]
  },
  {
   "cell_type": "raw",
   "metadata": {},
   "source": [
    "'''\n",
    "head(): function is used to get the first n rows. It is useful for quickly testing if your object has the right type of data in         it. For negative values of n , the head() function returns all rows except the last n rows  (n=5 is default we can set           any value)\n",
    "'''"
   ]
  },
  {
   "cell_type": "code",
   "execution_count": 10,
   "metadata": {
    "colab": {
     "base_uri": "https://localhost:8080/"
    },
    "id": "SduwY3b0UaYj",
    "outputId": "b508e75f-7fa4-408e-c207-9e8726d5b3d9"
   },
   "outputs": [
    {
     "data": {
      "text/plain": [
       "joy         5362\n",
       "sadness     4666\n",
       "anger       2159\n",
       "fear        1937\n",
       "love        1304\n",
       "surprise     572\n",
       "Name: Sentiment, dtype: int64"
      ]
     },
     "execution_count": 10,
     "metadata": {},
     "output_type": "execute_result"
    }
   ],
   "source": [
    "df_train['Sentiment'].value_counts()"
   ]
  },
  {
   "cell_type": "code",
   "execution_count": 11,
   "metadata": {
    "colab": {
     "base_uri": "https://localhost:8080/",
     "height": 296
    },
    "id": "w5mDo-MEUvZI",
    "outputId": "ac107da1-aac4-4313-b462-87edc1518024"
   },
   "outputs": [
    {
     "data": {
      "image/png": "[encoded data removed]",
      "text/plain": [
       "<Figure size 432x288 with 1 Axes>"
      ]
     },
     "metadata": {
      "needs_background": "light"
     },
     "output_type": "display_data"
    }
   ],
   "source": [
    "df_train['Sentiment'].value_counts().sort_values().plot.bar()\n",
    "plt.show()"
   ]
  },
  {
   "cell_type": "markdown",
   "metadata": {
    "id": "UpKv1U26xF5h"
   },
   "source": [
    "Training Dataset"
   ]
  },
  {
   "cell_type": "code",
   "execution_count": 12,
   "metadata": {
    "id": "MND2EHENVMGB"
   },
   "outputs": [],
   "source": [
    "x= df_train['Input']"
   ]
  },
  {
   "cell_type": "code",
   "execution_count": 13,
   "metadata": {
    "id": "8BE_hcMcVbvT"
   },
   "outputs": [],
   "source": [
    "# calculating the length of each message and making into a dataframe\n",
    "lst=[]\n",
    "for i in x:\n",
    "  lst.append(len(i))"
   ]
  },
  {
   "cell_type": "code",
   "execution_count": 14,
   "metadata": {
    "colab": {
     "base_uri": "https://localhost:8080/",
     "height": 294
    },
    "id": "ugJdx_7BV1Ev",
    "outputId": "47b47558-edce-4d58-d324-18c47f97a188"
   },
   "outputs": [
    {
     "data": {
      "text/html": [
       "<div>\n",
       "<style scoped>\n",
       "    .dataframe tbody tr th:only-of-type {\n",
       "        vertical-align: middle;\n",
       "    }\n",
       "\n",
       "    .dataframe tbody tr th {\n",
       "        vertical-align: top;\n",
       "    }\n",
       "\n",
       "    .dataframe thead th {\n",
       "        text-align: right;\n",
       "    }\n",
       "</style>\n",
       "<table border=\"1\" class=\"dataframe\">\n",
       "  <thead>\n",
       "    <tr style=\"text-align: right;\">\n",
       "      <th></th>\n",
       "      <th>0</th>\n",
       "    </tr>\n",
       "  </thead>\n",
       "  <tbody>\n",
       "    <tr>\n",
       "      <th>count</th>\n",
       "      <td>16000.000000</td>\n",
       "    </tr>\n",
       "    <tr>\n",
       "      <th>mean</th>\n",
       "      <td>96.845812</td>\n",
       "    </tr>\n",
       "    <tr>\n",
       "      <th>std</th>\n",
       "      <td>55.904953</td>\n",
       "    </tr>\n",
       "    <tr>\n",
       "      <th>min</th>\n",
       "      <td>7.000000</td>\n",
       "    </tr>\n",
       "    <tr>\n",
       "      <th>25%</th>\n",
       "      <td>53.000000</td>\n",
       "    </tr>\n",
       "    <tr>\n",
       "      <th>50%</th>\n",
       "      <td>86.000000</td>\n",
       "    </tr>\n",
       "    <tr>\n",
       "      <th>75%</th>\n",
       "      <td>129.000000</td>\n",
       "    </tr>\n",
       "    <tr>\n",
       "      <th>max</th>\n",
       "      <td>300.000000</td>\n",
       "    </tr>\n",
       "  </tbody>\n",
       "</table>\n",
       "</div>"
      ],
      "text/plain": [
       "                  0\n",
       "count  16000.000000\n",
       "mean      96.845812\n",
       "std       55.904953\n",
       "min        7.000000\n",
       "25%       53.000000\n",
       "50%       86.000000\n",
       "75%      129.000000\n",
       "max      300.000000"
      ]
     },
     "execution_count": 14,
     "metadata": {},
     "output_type": "execute_result"
    }
   ],
   "source": [
    "df1= pd.DataFrame(lst)\n",
    "df1.describe()"
   ]
  },
  {
   "cell_type": "markdown",
   "metadata": {},
   "source": [
    "'''\n",
    "pd.DataFrame(lst): pandas.DataFrame¶ ... Two-dimensional, size-mutable, potentially heterogeneous tabular data. Data structure                      also contains labeled axes (rows and columns)\n",
    "\n",
    "'''"
   ]
  },
  {
   "cell_type": "code",
   "execution_count": 15,
   "metadata": {
    "id": "B11hFru9ZNvB"
   },
   "outputs": [],
   "source": [
    "cts=[]\n",
    "for i in range(7,301):\n",
    "   ct=0\n",
    "   for k in lst:\n",
    "     if k==i:\n",
    "       ct+=1\n",
    "   cts.append(ct)"
   ]
  },
  {
   "cell_type": "markdown",
   "metadata": {},
   "source": [
    "culc the num of element that have same length in the list (range(7,301) )"
   ]
  },
  {
   "cell_type": "code",
   "execution_count": 16,
   "metadata": {
    "colab": {
     "base_uri": "https://localhost:8080/",
     "height": 266
    },
    "id": "PJx45P0Samiv",
    "outputId": "4147a676-3e8d-4117-f94b-076f134d62ae"
   },
   "outputs": [
    {
     "data": {
      "image/png": "[encoded data removed]",
      "text/plain": [
       "<Figure size 432x288 with 1 Axes>"
      ]
     },
     "metadata": {
      "needs_background": "light"
     },
     "output_type": "display_data"
    }
   ],
   "source": [
    "plt.bar(range(7, 301), cts)\n",
    "plt.show()"
   ]
  },
  {
   "cell_type": "code",
   "execution_count": 17,
   "metadata": {
    "id": "YBLYyfDLa7Qv"
   },
   "outputs": [],
   "source": [
    "# Tokenizing training data set\n",
    "tokenizer= Tokenizer(1512, lower=True, oov_token='UNK') #num_words=1512\n",
    "tokenizer.fit_on_texts(x)"
   ]
  },
  {
   "cell_type": "markdown",
   "metadata": {},
   "source": [
    "Tokenization is a method to segregate a particular text into small chunks or tokens. Here the tokens or chunks can be anything from words to characters, even subwords.\n",
    "\n",
    "oov_token='UNK': Keras lets us define an Out Of Vocab token - this will replace any unknown words with a token of our choosing. This is better than just throwing away unknown words since it tells our model there was information here\n",
    "\n",
    "tokenizer.fit_on_texts(): is used to update the internal vocabulary for the texts list. We need to call be before using other methods of texts_to_sequences or texts_to_matrix.The object returned by fit_on_texts can be used to derive more information by using the following attributes-(word_counts,word_docs ,word_index,document_count)\n"
   ]
  },
  {
   "cell_type": "markdown",
   "metadata": {},
   "source": [
    "# X_train  where X is the actual input (x= df_train['Input'])"
   ]
  },
  {
   "cell_type": "code",
   "execution_count": 18,
   "metadata": {
    "id": "WOiTRLbwdx40"
   },
   "outputs": [],
   "source": [
    "# Convert text to sequences using keras\n",
    "x_train= tokenizer.texts_to_sequences(x)"
   ]
  },
  {
   "cell_type": "markdown",
   "metadata": {},
   "source": [
    "texts_to_sequences: method helps in converting tokens of text corpus into a sequence of integers."
   ]
  },
  {
   "cell_type": "code",
   "execution_count": 19,
   "metadata": {
    "id": "z4u6KWc2eAqS"
   },
   "outputs": [],
   "source": [
    "# Pad sequences to get uniform length\n",
    "x_train_pad= pad_sequences(x_train, maxlen=80, padding='post')"
   ]
  },
  {
   "cell_type": "markdown",
   "metadata": {},
   "source": [
    "pad_sequences(): is used to ensure that all sequences in a list have the same length. By default this is done by padding 0 in the beginning of each sequence until each sequence has the same length as the longest sequence"
   ]
  },
  {
   "cell_type": "markdown",
   "metadata": {},
   "source": [
    "# y_train where y is our label (df_train['Sentiment'])"
   ]
  },
  {
   "cell_type": "code",
   "execution_count": 20,
   "metadata": {
    "id": "8fWU46FceakV"
   },
   "outputs": [],
   "source": [
    "# Replace the sentiments with numbers in JSON format\n",
    "df_train['Sentiment']= df_train.Sentiment.replace({'joy':0,'anger':1,'love':2,'sadness':3,'fear':4,'surprise':5})"
   ]
  },
  {
   "cell_type": "code",
   "execution_count": 21,
   "metadata": {
    "id": "IlHvY4DDfAJn"
   },
   "outputs": [
    {
     "name": "stdout",
     "output_type": "stream",
     "text": [
      "[3 3 1 2]\n"
     ]
    }
   ],
   "source": [
    "y_train= df_train['Sentiment'].values\n",
    "print(y_train[:4])"
   ]
  },
  {
   "cell_type": "code",
   "execution_count": 22,
   "metadata": {
    "id": "iL0AAwE-fgbR"
   },
   "outputs": [],
   "source": [
    "# Convert to binary matrix\n",
    "y_train_f= to_categorical(y_train)"
   ]
  },
  {
   "cell_type": "code",
   "execution_count": 23,
   "metadata": {
    "colab": {
     "base_uri": "https://localhost:8080/"
    },
    "id": "CRNpwjDif2xJ",
    "outputId": "3bdbf5c3-5bee-4fbf-87c9-5a4bfcf541d6"
   },
   "outputs": [
    {
     "data": {
      "text/plain": [
       "array([[0., 0., 0., 1., 0., 0.],\n",
       "       [0., 0., 0., 1., 0., 0.],\n",
       "       [0., 1., 0., 0., 0., 0.],\n",
       "       [0., 0., 1., 0., 0., 0.]], dtype=float32)"
      ]
     },
     "execution_count": 23,
     "metadata": {},
     "output_type": "execute_result"
    }
   ],
   "source": [
    "# Printing first four rows of matrix\n",
    "y_train_f[:4]"
   ]
  },
  {
   "cell_type": "markdown",
   "metadata": {
    "id": "yGED6RSBxAJS"
   },
   "source": [
    "Validation dataset\n"
   ]
  },
  {
   "cell_type": "code",
   "execution_count": 24,
   "metadata": {
    "id": "SxWby_YQxQUI"
   },
   "outputs": [],
   "source": [
    "# Perform same steps as training data set\n",
    "x_val= df_val['Input']"
   ]
  },
  {
   "cell_type": "code",
   "execution_count": 25,
   "metadata": {
    "id": "mDSI9pRgxbXE"
   },
   "outputs": [],
   "source": [
    "y_val= df_val.Sentiment.replace({'joy':0,'anger':1,'love':2,'sadness':3,'fear':4,'surprise':5})"
   ]
  },
  {
   "cell_type": "code",
   "execution_count": 26,
   "metadata": {
    "id": "mroSkO873Inb"
   },
   "outputs": [],
   "source": [
    "x_val_f= tokenizer.texts_to_sequences(x_val)"
   ]
  },
  {
   "cell_type": "code",
   "execution_count": 27,
   "metadata": {
    "id": "fiJhJorf3gW1"
   },
   "outputs": [],
   "source": [
    "x_val_pad= pad_sequences(x_val_f, maxlen=80, padding='post')"
   ]
  },
  {
   "cell_type": "code",
   "execution_count": 28,
   "metadata": {
    "id": "YN_zvxCE3uqn"
   },
   "outputs": [],
   "source": [
    "y_val_f= to_categorical(y_val)"
   ]
  },
  {
   "cell_type": "markdown",
   "metadata": {
    "id": "8LhEBTsR342E"
   },
   "source": [
    "# Training the model using LSTM"
   ]
  },
  {
   "cell_type": "code",
   "execution_count": 29,
   "metadata": {
    "id": "tmB2iHurgIzt"
   },
   "outputs": [],
   "source": [
    "from keras.models import Sequential\n",
    "from keras.layers import LSTM,Bidirectional,Dense,Embedding,Dropout"
   ]
  },
  {
   "cell_type": "code",
   "execution_count": 48,
   "metadata": {
    "colab": {
     "base_uri": "https://localhost:8080/"
    },
    "id": "R1oadhtKgL4X",
    "outputId": "94f7a5cc-281e-4bcd-8177-4be2952133bb"
   },
   "outputs": [
    {
     "name": "stdout",
     "output_type": "stream",
     "text": [
      "Model: \"sequential_2\"\n",
      "_________________________________________________________________\n",
      " Layer (type)                Output Shape              Param #   \n",
      "=================================================================\n",
      " embedding_2 (Embedding)     (None, 80, 64)            973568    \n",
      "                                                                 \n",
      " dropout_2 (Dropout)         (None, 80, 64)            0         \n",
      "                                                                 \n",
      " bidirectional_4 (Bidirectio  (None, 80, 160)          92800     \n",
      " nal)                                                            \n",
      "                                                                 \n",
      " bidirectional_5 (Bidirectio  (None, 140)              129360    \n",
      " nal)                                                            \n",
      "                                                                 \n",
      " dense_2 (Dense)             (None, 6)                 846       \n",
      "                                                                 \n",
      "=================================================================\n",
      "Total params: 1,196,574\n",
      "Trainable params: 1,196,574\n",
      "Non-trainable params: 0\n",
      "_________________________________________________________________\n",
      "None\n"
     ]
    }
   ],
   "source": [
    "# Instantiating the keras model to be Sequential\n",
    "model= Sequential()\n",
    "\n",
    "# Adding first hidden layer\n",
    "model.add(Embedding(15212, 64, input_length=80)) #input_dim=15212, output_dim=64\n",
    "\n",
    "# Dropout technique to prevent overfitting\n",
    "model.add(Dropout(0.6))\n",
    "\n",
    "# Creating LSTM layer\n",
    "model.add(Bidirectional(LSTM(80, return_sequences= True))) #units=80 dimensionality of the output space.\n",
    "\n",
    "model.add(Bidirectional(LSTM(70)))\n",
    "\n",
    "# Adding final hidden layer\n",
    "model.add(Dense(6, activation='softmax')) #6 is output units, use 2 in IMDB dataset\n",
    "\n",
    "# Printing model summary\n",
    "print(model.summary())"
   ]
  },
  {
   "cell_type": "markdown",
   "metadata": {},
   "source": [
    "Sequential() :is the easiest way to build a model in Keras. It allows you to build a model layer by layer. We use the 'add()'                  function to add layers to our model.\n",
    "Embedding()  :it's enables us to convert each word into a fixed length vector of defined size( input_dim : Size of the                         vocabulary ,output_dim : Length of the vector for each word ,input_length : Maximum length of a sequence)\n",
    "\n",
    "Dropout()    :Simply put, dropout refers to ignoring units (i.e. neurons) during the training phase of certain set of neurons                which is chosen at random.\n",
    "Dense()      :Dense layer is the regular deeply connected neural network layer.It is most common and frequently used layer.                   Dense does the below operation on the input and return the output, output= activation(dot(input, kernel) + bias)\n",
    "\n",
    "softmax      : activation function in the output layer of neural network models .. the num of node in output layer should be                  the same of our clusters or class so the softmax culc the probilty for each out node and actvaite the hights                   node "
   ]
  },
  {
   "cell_type": "code",
   "execution_count": 49,
   "metadata": {
    "id": "61_orV7p9ps1"
   },
   "outputs": [],
   "source": [
    "# Compiling model\n",
    "model.compile(optimizer='adam', loss='categorical_crossentropy', metrics=['accuracy'])"
   ]
  },
  {
   "cell_type": "markdown",
   "metadata": {},
   "source": [
    "Compile() :defines the loss function, the optimizer and the metrics. That's all. It has nothing to do with the weights and you             can compile a model as many times as you want without causing any problem to pretrained weights. You need a compiled             model to train (because training uses the loss function and the optimizer)\n",
    "نستخدم الاوبتمايزر حتى نقلل من وقت التيريننك ونحصل على مسار اكثر استقامة بالتريينك من المسار المتعرج الي يعرقل عملية التريننك ونستخدم ادم لانها افضل الاوبتمايزشن الكورذمز حاليا حيث تغير الويت خلال ايفري براميتر بايفري ايبوك \n",
    "\n",
    "Loss     :The purpose of loss functions is to compute the quantity that a model should seek to minimize during training"
   ]
  },
  {
   "cell_type": "code",
   "execution_count": 50,
   "metadata": {
    "colab": {
     "base_uri": "https://localhost:8080/"
    },
    "id": "v8Un9msT99tI",
    "outputId": "55ce32a5-6669-4d80-9d0f-c8198705b5a0"
   },
   "outputs": [
    {
     "name": "stdout",
     "output_type": "stream",
     "text": [
      "Epoch 1/24\n",
      "125/125 [==============================] - 49s 359ms/step - loss: 1.4930 - accuracy: 0.4082 - val_loss: 1.1977 - val_accuracy: 0.5620\n",
      "Epoch 2/24\n",
      "125/125 [==============================] - 58s 461ms/step - loss: 0.9364 - accuracy: 0.6546 - val_loss: 0.6568 - val_accuracy: 0.7775\n",
      "Epoch 3/24\n",
      "125/125 [==============================] - 63s 500ms/step - loss: 0.5829 - accuracy: 0.7973 - val_loss: 0.4728 - val_accuracy: 0.8365\n",
      "Epoch 4/24\n",
      "125/125 [==============================] - 64s 512ms/step - loss: 0.4201 - accuracy: 0.8597 - val_loss: 0.3610 - val_accuracy: 0.8755\n",
      "Epoch 5/24\n",
      "125/125 [==============================] - 73s 582ms/step - loss: 0.3449 - accuracy: 0.8790 - val_loss: 0.3296 - val_accuracy: 0.8840\n",
      "Epoch 6/24\n",
      "125/125 [==============================] - 68s 543ms/step - loss: 0.3121 - accuracy: 0.8898 - val_loss: 0.2996 - val_accuracy: 0.8850\n",
      "Epoch 7/24\n",
      "125/125 [==============================] - 69s 548ms/step - loss: 0.2653 - accuracy: 0.9016 - val_loss: 0.2707 - val_accuracy: 0.8915\n",
      "Epoch 8/24\n",
      "125/125 [==============================] - 68s 544ms/step - loss: 0.2471 - accuracy: 0.9062 - val_loss: 0.2584 - val_accuracy: 0.8910\n",
      "Epoch 9/24\n",
      "125/125 [==============================] - 69s 550ms/step - loss: 0.2336 - accuracy: 0.9111 - val_loss: 0.2494 - val_accuracy: 0.8965\n",
      "Epoch 10/24\n",
      "125/125 [==============================] - 69s 553ms/step - loss: 0.2139 - accuracy: 0.9168 - val_loss: 0.2652 - val_accuracy: 0.8975\n",
      "Epoch 11/24\n",
      "125/125 [==============================] - 70s 560ms/step - loss: 0.2082 - accuracy: 0.9161 - val_loss: 0.2498 - val_accuracy: 0.8935\n",
      "Epoch 12/24\n",
      "125/125 [==============================] - 65s 517ms/step - loss: 0.1907 - accuracy: 0.9233 - val_loss: 0.2402 - val_accuracy: 0.9050\n",
      "Epoch 13/24\n",
      "125/125 [==============================] - 61s 491ms/step - loss: 0.1865 - accuracy: 0.9247 - val_loss: 0.2358 - val_accuracy: 0.9010\n",
      "Epoch 14/24\n",
      "125/125 [==============================] - 62s 495ms/step - loss: 0.1775 - accuracy: 0.9279 - val_loss: 0.2465 - val_accuracy: 0.9005\n",
      "Epoch 15/24\n",
      "125/125 [==============================] - 62s 495ms/step - loss: 0.1749 - accuracy: 0.9299 - val_loss: 0.2287 - val_accuracy: 0.9055\n",
      "Epoch 16/24\n",
      "125/125 [==============================] - 63s 501ms/step - loss: 0.1655 - accuracy: 0.9310 - val_loss: 0.2296 - val_accuracy: 0.9060\n",
      "Epoch 17/24\n",
      "125/125 [==============================] - 65s 516ms/step - loss: 0.1625 - accuracy: 0.9353 - val_loss: 0.2184 - val_accuracy: 0.9065\n",
      "Epoch 18/24\n",
      "125/125 [==============================] - 62s 497ms/step - loss: 0.1591 - accuracy: 0.9334 - val_loss: 0.2377 - val_accuracy: 0.9070\n",
      "Epoch 19/24\n",
      "125/125 [==============================] - 60s 483ms/step - loss: 0.1553 - accuracy: 0.9364 - val_loss: 0.2255 - val_accuracy: 0.9035\n",
      "Epoch 20/24\n",
      "125/125 [==============================] - 62s 499ms/step - loss: 0.1495 - accuracy: 0.9365 - val_loss: 0.2389 - val_accuracy: 0.9045\n",
      "Epoch 21/24\n",
      "125/125 [==============================] - 63s 507ms/step - loss: 0.1416 - accuracy: 0.9382 - val_loss: 0.2252 - val_accuracy: 0.9110\n",
      "Epoch 22/24\n",
      "125/125 [==============================] - 62s 496ms/step - loss: 0.1375 - accuracy: 0.9402 - val_loss: 0.2298 - val_accuracy: 0.9090\n",
      "Epoch 23/24\n",
      "125/125 [==============================] - 59s 471ms/step - loss: 0.1369 - accuracy: 0.9436 - val_loss: 0.2362 - val_accuracy: 0.9085\n",
      "Epoch 24/24\n",
      "125/125 [==============================] - 59s 472ms/step - loss: 0.1322 - accuracy: 0.9449 - val_loss: 0.2436 - val_accuracy: 0.9060\n"
     ]
    }
   ],
   "source": [
    "# Building and training the model\n",
    "hist= model.fit(x_train_pad, y_train_f, epochs=24, batch_size=128, validation_data=(x_val_pad, y_val_f)) "
   ]
  },
  {
   "cell_type": "markdown",
   "metadata": {},
   "source": [
    "model.fit()  :Trains the model for a fixed number of epochs (iterations on a dataset)."
   ]
  },
  {
   "cell_type": "code",
   "execution_count": 62,
   "metadata": {
    "colab": {
     "base_uri": "https://localhost:8080/",
     "height": 268
    },
    "id": "XWAAkbtaEdcj",
    "outputId": "5c1bf4b5-75ef-4dd8-b66f-bc3c62c131c2"
   },
   "outputs": [
    {
     "data": {
      "image/png": "[encoded data removed]",
      "text/plain": [
       "<Figure size 432x288 with 1 Axes>"
      ]
     },
     "metadata": {
      "needs_background": "light"
     },
     "output_type": "display_data"
    }
   ],
   "source": [
    "# Plotting accuracy of training vs validation\n",
    "plt.plot(hist.history['accuracy'], c='b', label='training data')\n",
    "plt.plot(hist.history['val_accuracy'], c='r', label='testing data')\n",
    "plt.legend(loc='lower right')\n",
    "plt.title('Model Accuracy ')\n",
    "plt.show()"
   ]
  },
  {
   "cell_type": "code",
   "execution_count": 63,
   "metadata": {
    "colab": {
     "base_uri": "https://localhost:8080/",
     "height": 265
    },
    "id": "8e2gLL3RSJxg",
    "outputId": "0e420007-19a0-4ed8-aa02-93d6fa96ce32"
   },
   "outputs": [
    {
     "data": {
      "image/png": "[encoded data removed]",
      "text/plain": [
       "<Figure size 432x288 with 1 Axes>"
      ]
     },
     "metadata": {
      "needs_background": "light"
     },
     "output_type": "display_data"
    }
   ],
   "source": [
    "# Plotting loss of training vs validation\n",
    "plt.plot(hist.history['loss'], c='b', label='training data')\n",
    "plt.plot(hist.history['val_loss'], c='r', label='testing data')\n",
    "plt.legend(loc='upper right')\n",
    "plt.title('Model Loss ')\n",
    "plt.show()"
   ]
  },
  {
   "cell_type": "markdown",
   "metadata": {
    "id": "QauoylDbTJR7"
   },
   "source": [
    "Test dataset"
   ]
  },
  {
   "cell_type": "code",
   "execution_count": 53,
   "metadata": {
    "id": "oOEd8O-5Saww"
   },
   "outputs": [],
   "source": [
    "# Same steps as training/ validation dataset \n",
    "x_test= df_test['Input']\n",
    "x_test2= df_test2['Input']"
   ]
  },
  {
   "cell_type": "code",
   "execution_count": 54,
   "metadata": {
    "id": "FjTA9qTMTym_"
   },
   "outputs": [],
   "source": [
    "y_test= df_test.Sentiment.replace({'joy':0,'anger':1,'love':2,'sadness':3,'fear':4,'surprise':5})\n",
    "y_test2= df_test2.Sentiment.replace({'joy':0,'anger':1,'love':2,'sadness':3,'fear':4,'surprise':5})"
   ]
  },
  {
   "cell_type": "code",
   "execution_count": 55,
   "metadata": {
    "id": "7NOughZkT9di"
   },
   "outputs": [],
   "source": [
    "x_test_f= tokenizer.texts_to_sequences(x_test)\n",
    "x_test_f2= tokenizer.texts_to_sequences(x_test2)"
   ]
  },
  {
   "cell_type": "code",
   "execution_count": 56,
   "metadata": {
    "id": "S6Ii8Bg7UF36"
   },
   "outputs": [],
   "source": [
    "x_test_pad= pad_sequences(x_test_f, maxlen=80, padding='post')\n",
    "x_test_pad2= pad_sequences(x_test_f2, maxlen=80, padding='post')"
   ]
  },
  {
   "cell_type": "code",
   "execution_count": 57,
   "metadata": {
    "id": "9f0oIRcmUPRw"
   },
   "outputs": [],
   "source": [
    "y_test_f= to_categorical(y_test)\n",
    "y_test_f2= to_categorical(y_test2)"
   ]
  },
  {
   "cell_type": "code",
   "execution_count": 58,
   "metadata": {
    "colab": {
     "base_uri": "https://localhost:8080/"
    },
    "id": "kw_6xr4xVG4I",
    "outputId": "f14752ae-7ab3-460a-bac6-96620f0ee629"
   },
   "outputs": [
    {
     "name": "stdout",
     "output_type": "stream",
     "text": [
      "63/63 [==============================] - 3s 41ms/step - loss: 0.2129 - accuracy: 0.9145\n"
     ]
    },
    {
     "data": {
      "text/plain": [
       "[0.2129431515932083, 0.9144999980926514]"
      ]
     },
     "execution_count": 58,
     "metadata": {},
     "output_type": "execute_result"
    }
   ],
   "source": [
    "# Evaluate model\n",
    "model.evaluate(x_test_pad, y_test_f)\n",
    "\n",
    "#model.evaluate(x_test_pad2, y_test_f2)"
   ]
  },
  {
   "cell_type": "markdown",
   "metadata": {},
   "source": [
    "evaluate()  :a process during development of the model to check whether the model is best fit for the given problem and                     corresponding data."
   ]
  },
  {
   "cell_type": "markdown",
   "metadata": {
    "id": "Kvw15w-UVcC9"
   },
   "source": [
    "**Accuracy on test data is 91.1 %**"
   ]
  },
  {
   "cell_type": "code",
   "execution_count": 59,
   "metadata": {
    "colab": {
     "base_uri": "https://localhost:8080/"
    },
    "id": "ion0OgsHV2PV",
    "outputId": "a870edf2-49e3-4891-b37b-77143105e6d2"
   },
   "outputs": [
    {
     "name": "stdout",
     "output_type": "stream",
     "text": [
      "\n",
      "              precision    recall  f1-score   support\n",
      "\n",
      "           0       0.92      0.95      0.93       695\n",
      "           1       0.96      0.86      0.91       275\n",
      "           2       0.82      0.76      0.79       159\n",
      "           3       0.96      0.95      0.95       581\n",
      "           4       0.85      0.92      0.89       224\n",
      "           5       0.78      0.77      0.78        66\n",
      "\n",
      "    accuracy                           0.91      2000\n",
      "   macro avg       0.88      0.87      0.87      2000\n",
      "weighted avg       0.92      0.91      0.91      2000\n",
      "\n"
     ]
    }
   ],
   "source": [
    "# Predict model for test data\n",
    "#y_pred= model.predict_classes(x_test_pad)\n",
    "predict_x=model.predict(x_test_pad) \n",
    "classes_x=np.argmax(predict_x,axis=1)\n",
    "\n",
    "# Print precision, recall & f1 score\n",
    "from sklearn.metrics import classification_report\n",
    "print(\"\")\n",
    "print(classification_report(y_test, classes_x))"
   ]
  },
  {
   "cell_type": "markdown",
   "metadata": {},
   "source": [
    "predict() :given a trained model, predict the label of a new set of data\n",
    "argmax()  :Returns the indices of the maximum values along an axis"
   ]
  },
  {
   "cell_type": "code",
   "execution_count": 80,
   "metadata": {},
   "outputs": [
    {
     "name": "stderr",
     "output_type": "stream",
     "text": [
      "WARNING:absl:Found untraced functions such as lstm_cell_13_layer_call_fn, lstm_cell_13_layer_call_and_return_conditional_losses, lstm_cell_14_layer_call_fn, lstm_cell_14_layer_call_and_return_conditional_losses, lstm_cell_16_layer_call_fn while saving (showing 5 of 8). These functions will not be directly callable after loading.\n"
     ]
    },
    {
     "name": "stdout",
     "output_type": "stream",
     "text": [
      "INFO:tensorflow:Assets written to: my_model\\assets\n"
     ]
    },
    {
     "name": "stderr",
     "output_type": "stream",
     "text": [
      "INFO:tensorflow:Assets written to: my_model\\assets\n",
      "WARNING:absl:<keras.layers.recurrent.LSTMCell object at 0x0000024373965E50> has the same name 'LSTMCell' as a built-in Keras object. Consider renaming <class 'keras.layers.recurrent.LSTMCell'> to avoid naming conflicts when loading with `tf.keras.models.load_model`. If renaming is not possible, pass the object in the `custom_objects` parameter of the load function.\n",
      "WARNING:absl:<keras.layers.recurrent.LSTMCell object at 0x00000243739687C0> has the same name 'LSTMCell' as a built-in Keras object. Consider renaming <class 'keras.layers.recurrent.LSTMCell'> to avoid naming conflicts when loading with `tf.keras.models.load_model`. If renaming is not possible, pass the object in the `custom_objects` parameter of the load function.\n",
      "WARNING:absl:<keras.layers.recurrent.LSTMCell object at 0x0000024374D75F10> has the same name 'LSTMCell' as a built-in Keras object. Consider renaming <class 'keras.layers.recurrent.LSTMCell'> to avoid naming conflicts when loading with `tf.keras.models.load_model`. If renaming is not possible, pass the object in the `custom_objects` parameter of the load function.\n",
      "WARNING:absl:<keras.layers.recurrent.LSTMCell object at 0x0000024372EF2580> has the same name 'LSTMCell' as a built-in Keras object. Consider renaming <class 'keras.layers.recurrent.LSTMCell'> to avoid naming conflicts when loading with `tf.keras.models.load_model`. If renaming is not possible, pass the object in the `custom_objects` parameter of the load function.\n"
     ]
    }
   ],
   "source": [
    "#Save keras model\n",
    "from keras.models import save_model\n",
    "import os.path\n",
    "if os.path.isfile('my_model') is False :\n",
    "    model.save('my_model')\n",
    "\n",
    "# To load the model:\n",
    "from keras.models import load_model\n",
    "saved_mdl = load_model(\"my_model\")"
   ]
  },
  {
   "cell_type": "code",
   "execution_count": 81,
   "metadata": {},
   "outputs": [
    {
     "name": "stdout",
     "output_type": "stream",
     "text": [
      "63/63 [==============================] - 14s 80ms/step - loss: 0.1965 - accuracy: 0.9130\n"
     ]
    },
    {
     "data": {
      "text/plain": [
       "[0.19648684561252594, 0.9129999876022339]"
      ]
     },
     "execution_count": 81,
     "metadata": {},
     "output_type": "execute_result"
    }
   ],
   "source": [
    "# Evaluate saved model\n",
    "saved_mdl.evaluate(x_test_pad, y_test_f)"
   ]
  },
  {
   "cell_type": "code",
   "execution_count": 82,
   "metadata": {},
   "outputs": [
    {
     "name": "stdout",
     "output_type": "stream",
     "text": [
      "Model: \"sequential_1\"\n",
      "_________________________________________________________________\n",
      " Layer (type)                Output Shape              Param #   \n",
      "=================================================================\n",
      " embedding_1 (Embedding)     (None, 80, 64)            973568    \n",
      "                                                                 \n",
      " dropout_1 (Dropout)         (None, 80, 64)            0         \n",
      "                                                                 \n",
      " bidirectional_2 (Bidirectio  (None, 80, 160)          92800     \n",
      " nal)                                                            \n",
      "                                                                 \n",
      " bidirectional_3 (Bidirectio  (None, 320)              410880    \n",
      " nal)                                                            \n",
      "                                                                 \n",
      " dense_1 (Dense)             (None, 6)                 1926      \n",
      "                                                                 \n",
      "=================================================================\n",
      "Total params: 1,479,174\n",
      "Trainable params: 1,479,174\n",
      "Non-trainable params: 0\n",
      "_________________________________________________________________\n",
      "None\n"
     ]
    }
   ],
   "source": [
    "# Printing saved model summary\n",
    "print(saved_mdl.summary())"
   ]
  },
  {
   "cell_type": "code",
   "execution_count": 83,
   "metadata": {},
   "outputs": [
    {
     "name": "stdout",
     "output_type": "stream",
     "text": [
      "[3 3 3 ... 0 0 4]\n"
     ]
    }
   ],
   "source": [
    "# Predict using the savid model \n",
    "predict_x=saved_mdl.predict(x_test_pad, verbose=0)\n",
    "classes_x=np.argmax(predict_x,axis=1)\n",
    "print(classes_x)"
   ]
  },
  {
   "cell_type": "code",
   "execution_count": 84,
   "metadata": {},
   "outputs": [
    {
     "name": "stdout",
     "output_type": "stream",
     "text": [
      "joy\n"
     ]
    }
   ],
   "source": [
    "# Test your sentence\n",
    "INPUT='The weather looks nice today '\n",
    "x_ = np.array([INPUT])\n",
    "# Convert text to sequences using keras\n",
    "x_input = tokenizer.texts_to_sequences(x_)\n",
    "# Pad sequences to get uniform length\n",
    "x_input_pad= pad_sequences(x_input, maxlen=80, padding='post')\n",
    "\n",
    "predict_input=saved_mdl([x_input_pad])\n",
    "classes_=np.argmax(predict_input,axis=1)\n",
    "#print(classes_x)\n",
    "\n",
    "categories = ['joy','anger','love','sadness','fear','surprise']\n",
    "print(categories[int(classes_)])"
   ]
  },
  {
   "cell_type": "code",
   "execution_count": 47,
   "metadata": {},
   "outputs": [
    {
     "ename": "NameError",
     "evalue": "name 'saved_mdl' is not defined",
     "output_type": "error",
     "traceback": [
      "\u001b[1;31m---------------------------------------------------------------------------\u001b[0m",
      "\u001b[1;31mNameError\u001b[0m                                 Traceback (most recent call last)",
      "\u001b[1;32m~\\AppData\\Local\\Temp/ipykernel_9428/2321818849.py\u001b[0m in \u001b[0;36m<module>\u001b[1;34m\u001b[0m\n\u001b[0;32m      1\u001b[0m \u001b[1;31m# predict crisp classes for test set\u001b[0m\u001b[1;33m\u001b[0m\u001b[1;33m\u001b[0m\u001b[0m\n\u001b[1;32m----> 2\u001b[1;33m \u001b[0myhat_classes\u001b[0m \u001b[1;33m=\u001b[0m \u001b[0mnp\u001b[0m\u001b[1;33m.\u001b[0m\u001b[0margmax\u001b[0m\u001b[1;33m(\u001b[0m\u001b[0msaved_mdl\u001b[0m\u001b[1;33m.\u001b[0m\u001b[0mpredict\u001b[0m\u001b[1;33m(\u001b[0m\u001b[0mx_test_pad\u001b[0m\u001b[1;33m,\u001b[0m \u001b[0mverbose\u001b[0m\u001b[1;33m=\u001b[0m\u001b[1;36m0\u001b[0m\u001b[1;33m)\u001b[0m\u001b[1;33m,\u001b[0m\u001b[0maxis\u001b[0m\u001b[1;33m=\u001b[0m\u001b[1;36m1\u001b[0m\u001b[1;33m)\u001b[0m\u001b[1;33m\u001b[0m\u001b[1;33m\u001b[0m\u001b[0m\n\u001b[0m\u001b[0;32m      3\u001b[0m \u001b[1;33m\u001b[0m\u001b[0m\n\u001b[0;32m      4\u001b[0m \u001b[1;33m\u001b[0m\u001b[0m\n\u001b[0;32m      5\u001b[0m \u001b[1;31m# demonstration of calculating metrics for a neural network model using sklearn\u001b[0m\u001b[1;33m\u001b[0m\u001b[1;33m\u001b[0m\u001b[0m\n",
      "\u001b[1;31mNameError\u001b[0m: name 'saved_mdl' is not defined"
     ]
    }
   ],
   "source": [
    "\n",
    "# predict crisp classes for test set\n",
    "yhat_classes = np.argmax(saved_mdl.predict(x_test_pad, verbose=0),axis=1)\n",
    "\n",
    "\n",
    "# demonstration of calculating metrics for a neural network model using sklearn\n",
    "from sklearn.datasets import make_circles\n",
    "from sklearn.metrics import accuracy_score\n",
    "from sklearn.metrics import precision_score\n",
    "from sklearn.metrics import recall_score\n",
    "from sklearn.metrics import f1_score\n",
    "from sklearn.metrics import cohen_kappa_score\n",
    "from sklearn.metrics import roc_auc_score\n",
    "from sklearn.metrics import confusion_matrix\n",
    "\n",
    "# accuracy: (tp + tn) / (p + n)\n",
    "accuracy = accuracy_score(y_test, yhat_classes)\n",
    "print('Accuracy: %f' % accuracy)\n",
    "\n",
    "# precision tp / (tp + fp)\n",
    "precision = precision_score(y_test, yhat_classes,average=None)\n",
    "print('precision ', end=' ')\n",
    "print(precision)\n",
    "\n",
    "# recall: tp / (tp + fn)\n",
    "recall = recall_score(y_test, yhat_classes,average=None)\n",
    "print('Recall: ' , end='')\n",
    "print(recall)\n",
    "\n",
    "# f1: 2 tp / (2 tp + fp + fn)\n",
    "f1 = f1_score(y_test, yhat_classes, average=\"macro\")\n",
    "print( 'F1 score: ',end='')\n",
    "print(f1)\n",
    "\n",
    "# Print precision, recall & f1 score\n",
    "from sklearn.metrics import classification_report\n",
    "print(\"\")\n",
    "print(classification_report(y_test, classes_x))"
   ]
  },
  {
   "cell_type": "code",
   "execution_count": null,
   "metadata": {},
   "outputs": [],
   "source": []
  }
 ],
 "metadata": {
  "colab": {
   "name": "emotion_detection.ipynb",
   "provenance": []
  },
  "kernelspec": {
   "display_name": "Python 3 (ipykernel)",
   "language": "python",
   "name": "python3"
  },
  "language_info": {
   "codemirror_mode": {
    "name": "ipython",
    "version": 3
   },
   "file_extension": ".py",
   "mimetype": "text/x-python",
   "name": "python",
   "nbconvert_exporter": "python",
   "pygments_lexer": "ipython3",
   "version": "3.9.7"
  }
 },
 "nbformat": 4,
 "nbformat_minor": 1
}
